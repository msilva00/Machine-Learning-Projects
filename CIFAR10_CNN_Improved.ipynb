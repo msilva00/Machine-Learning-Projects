{
  "nbformat": 4,
  "nbformat_minor": 0,
  "metadata": {
    "colab": {
      "name": "CIFAR10_CNN_Improved.ipynb",
      "provenance": [],
      "collapsed_sections": []
    },
    "kernelspec": {
      "name": "python3",
      "display_name": "Python 3"
    },
    "accelerator": "GPU"
  },
  "cells": [
    {
      "cell_type": "code",
      "metadata": {
        "id": "mDUj5uZVY3HD",
        "colab_type": "code",
        "outputId": "61c309e9-2e1a-4ce2-e21a-d8e1c4d2a333",
        "colab": {
          "base_uri": "https://localhost:8080/",
          "height": 51
        }
      },
      "source": [
        "%tensorflow_version 2.x\n",
        "import tensorflow as tf\n",
        "print(tf.__version__)"
      ],
      "execution_count": 0,
      "outputs": [
        {
          "output_type": "stream",
          "text": [
            "TensorFlow 2.x selected.\n",
            "2.1.0-rc1\n"
          ],
          "name": "stdout"
        }
      ]
    },
    {
      "cell_type": "code",
      "metadata": {
        "id": "EC2shu4yY-il",
        "colab_type": "code",
        "colab": {}
      },
      "source": [
        "# additional imports\n",
        "import numpy as np\n",
        "import matplotlib.pyplot as plt\n",
        "from tensorflow.keras.layers import Input, Conv2D, Dense, Dropout, GlobalMaxPooling2D, Flatten, BatchNormalization, MaxPooling2D\n",
        "from tensorflow.keras.models import Model"
      ],
      "execution_count": 0,
      "outputs": []
    },
    {
      "cell_type": "code",
      "metadata": {
        "id": "MV1nYlurZUK_",
        "colab_type": "code",
        "outputId": "5ce56751-f138-4f1c-e611-98bfa118065a",
        "colab": {
          "base_uri": "https://localhost:8080/",
          "height": 85
        }
      },
      "source": [
        "# Load in the data\n",
        "cifar10 = tf.keras.datasets.cifar10\n",
        "\n",
        "(x_train, y_train), (x_test, y_test) = cifar10.load_data()\n",
        "x_train, x_test = x_train/255.0, x_test/255.0\n",
        "y_train, y_test = y_train.flatten(), y_test.flatten() # targets are 2D arrays Nx1, tensorflow expects vector of N\n",
        "print(\"x_train.shape: \", x_train.shape)\n",
        "print(\"y_train.shape: \", y_train.shape)"
      ],
      "execution_count": 0,
      "outputs": [
        {
          "output_type": "stream",
          "text": [
            "Downloading data from https://www.cs.toronto.edu/~kriz/cifar-10-python.tar.gz\n",
            "170500096/170498071 [==============================] - 6s 0us/step\n",
            "x_train.shape:  (50000, 32, 32, 3)\n",
            "y_train.shape:  (50000,)\n"
          ],
          "name": "stdout"
        }
      ]
    },
    {
      "cell_type": "code",
      "metadata": {
        "id": "Q0litS6fZyFp",
        "colab_type": "code",
        "colab": {}
      },
      "source": [
        "# number of classes \n",
        "K = len(set(y_train))"
      ],
      "execution_count": 0,
      "outputs": []
    },
    {
      "cell_type": "code",
      "metadata": {
        "id": "OhGfdD-0ad9h",
        "colab_type": "code",
        "colab": {}
      },
      "source": [
        "# Build the model using Keras functional API\n",
        "i = Input(shape=x_train[0].shape)\n",
        "# x = Conv2D(32, (3,3), strides=2, activation='relu')(i)\n",
        "# x = Conv2D(64, (3,3), strides=2, activation='relu')(x)\n",
        "# x = Conv2D(128, (3,3), strides=2, activation='relu')(x)\n",
        "\n",
        "x = Conv2D(32, (3,3), activation = 'relu', padding = 'same')(i)\n",
        "x = BatchNormalization()(x)\n",
        "x = Conv2D(32, (3,3), activation = 'relu', padding = 'same')(x)\n",
        "x = BatchNormalization()(x)\n",
        "x = Conv2D(32, (3,3), activation = 'relu', padding = 'same')(x)\n",
        "x = MaxPooling2D((2,2))(x)\n",
        "x = Conv2D(64, (3,3), activation='relu', padding='same')(x)\n",
        "x = BatchNormalization()(x)\n",
        "x = MaxPooling2D((2,2))(x)\n",
        "x = Conv2D(128, (3,3), activation='relu', padding='same')(x)\n",
        "x = BatchNormalization()(x)\n",
        "x = MaxPooling2D((2,2))(x)\n",
        "x = Conv2D(128, (3,3), activation='relu', padding='same')(x)\n",
        "x = BatchNormalization()(x)\n",
        "x = MaxPooling2D((2,2))(x)\n",
        "\n",
        "x = Flatten()(x)\n",
        "x = Dropout(0.2)(x)\n",
        "x = Dense(1024, activation='relu')(x)\n",
        "x = Dropout(0.2)(x)\n",
        "x = Dense(K, activation='softmax')(x)\n",
        "\n",
        "model = Model(i,x)"
      ],
      "execution_count": 0,
      "outputs": []
    },
    {
      "cell_type": "code",
      "metadata": {
        "id": "x9uY0PmebDQ6",
        "colab_type": "code",
        "outputId": "e1a8effc-72d9-4392-9c49-5f20c7ba9634",
        "colab": {
          "base_uri": "https://localhost:8080/",
          "height": 1000
        }
      },
      "source": [
        "# Compile and fit\n",
        "# Note: make sure you are using GPU for this!\n",
        "# Fit with data augmentation\n",
        "model.compile(optimizer='adam',\n",
        "              loss = 'sparse_categorical_crossentropy',\n",
        "              metrics = ['accuracy'])\n",
        "batch_size = 32\n",
        "data_generator = tf.keras.preprocessing.image.ImageDataGenerator(\n",
        "    width_shift_range = 0.1,\n",
        "    height_shift_range = 0.1,\n",
        "    horizontal_flip = True)\n",
        "train_generator = data_generator.flow(x_train, y_train, batch_size)\n",
        "steps_per_epoch = x_train.shape[0]//batch_size\n",
        "r = model.fit(train_generator, validation_data=(x_test, y_test), \n",
        "              steps_per_epoch=steps_per_epoch, epochs = 50)"
      ],
      "execution_count": 0,
      "outputs": [
        {
          "output_type": "stream",
          "text": [
            "WARNING:tensorflow:sample_weight modes were coerced from\n",
            "  ...\n",
            "    to  \n",
            "  ['...']\n",
            "Train for 1562 steps, validate on 10000 samples\n",
            "Epoch 1/50\n",
            "1562/1562 [==============================] - 33s 21ms/step - loss: 1.3869 - accuracy: 0.5037 - val_loss: 1.1080 - val_accuracy: 0.5973\n",
            "Epoch 2/50\n",
            "1562/1562 [==============================] - 27s 17ms/step - loss: 0.9635 - accuracy: 0.6609 - val_loss: 0.8653 - val_accuracy: 0.6958\n",
            "Epoch 3/50\n",
            "1562/1562 [==============================] - 26s 17ms/step - loss: 0.8264 - accuracy: 0.7133 - val_loss: 0.7313 - val_accuracy: 0.7439\n",
            "Epoch 4/50\n",
            "1562/1562 [==============================] - 26s 17ms/step - loss: 0.7492 - accuracy: 0.7415 - val_loss: 0.6921 - val_accuracy: 0.7594\n",
            "Epoch 5/50\n",
            "1562/1562 [==============================] - 26s 17ms/step - loss: 0.6896 - accuracy: 0.7623 - val_loss: 0.8226 - val_accuracy: 0.7211\n",
            "Epoch 6/50\n",
            "1562/1562 [==============================] - 26s 17ms/step - loss: 0.6484 - accuracy: 0.7774 - val_loss: 0.6516 - val_accuracy: 0.7772\n",
            "Epoch 7/50\n",
            "1562/1562 [==============================] - 26s 17ms/step - loss: 0.6046 - accuracy: 0.7941 - val_loss: 0.6039 - val_accuracy: 0.7937\n",
            "Epoch 8/50\n",
            "1562/1562 [==============================] - 26s 17ms/step - loss: 0.5745 - accuracy: 0.8026 - val_loss: 0.6625 - val_accuracy: 0.7770\n",
            "Epoch 9/50\n",
            "1562/1562 [==============================] - 28s 18ms/step - loss: 0.5530 - accuracy: 0.8115 - val_loss: 0.7379 - val_accuracy: 0.7637\n",
            "Epoch 10/50\n",
            "1562/1562 [==============================] - 26s 17ms/step - loss: 0.5291 - accuracy: 0.8174 - val_loss: 0.5920 - val_accuracy: 0.8001\n",
            "Epoch 11/50\n",
            "1562/1562 [==============================] - 26s 17ms/step - loss: 0.4977 - accuracy: 0.8291 - val_loss: 0.5717 - val_accuracy: 0.8091\n",
            "Epoch 12/50\n",
            "1562/1562 [==============================] - 27s 17ms/step - loss: 0.4852 - accuracy: 0.8335 - val_loss: 0.5528 - val_accuracy: 0.8124\n",
            "Epoch 13/50\n",
            "1562/1562 [==============================] - 26s 17ms/step - loss: 0.4658 - accuracy: 0.8391 - val_loss: 0.6040 - val_accuracy: 0.8086\n",
            "Epoch 14/50\n",
            "1562/1562 [==============================] - 27s 17ms/step - loss: 0.4453 - accuracy: 0.8443 - val_loss: 0.5433 - val_accuracy: 0.8134\n",
            "Epoch 15/50\n",
            "1562/1562 [==============================] - 26s 17ms/step - loss: 0.4327 - accuracy: 0.8520 - val_loss: 0.5709 - val_accuracy: 0.8099\n",
            "Epoch 16/50\n",
            "1562/1562 [==============================] - 26s 17ms/step - loss: 0.4223 - accuracy: 0.8539 - val_loss: 0.5336 - val_accuracy: 0.8249\n",
            "Epoch 17/50\n",
            "1562/1562 [==============================] - 26s 17ms/step - loss: 0.4106 - accuracy: 0.8587 - val_loss: 0.4634 - val_accuracy: 0.8422\n",
            "Epoch 18/50\n",
            "1562/1562 [==============================] - 26s 17ms/step - loss: 0.3980 - accuracy: 0.8631 - val_loss: 0.5208 - val_accuracy: 0.8302\n",
            "Epoch 19/50\n",
            "1562/1562 [==============================] - 26s 17ms/step - loss: 0.3896 - accuracy: 0.8643 - val_loss: 0.5191 - val_accuracy: 0.8286\n",
            "Epoch 20/50\n",
            "1562/1562 [==============================] - 26s 17ms/step - loss: 0.3759 - accuracy: 0.8707 - val_loss: 0.5489 - val_accuracy: 0.8246\n",
            "Epoch 21/50\n",
            "1562/1562 [==============================] - 26s 17ms/step - loss: 0.3673 - accuracy: 0.8733 - val_loss: 0.5345 - val_accuracy: 0.8292\n",
            "Epoch 22/50\n",
            "1562/1562 [==============================] - 26s 17ms/step - loss: 0.3561 - accuracy: 0.8757 - val_loss: 0.4731 - val_accuracy: 0.8465\n",
            "Epoch 23/50\n",
            "1562/1562 [==============================] - 26s 17ms/step - loss: 0.3523 - accuracy: 0.8781 - val_loss: 0.5294 - val_accuracy: 0.8316\n",
            "Epoch 24/50\n",
            "1562/1562 [==============================] - 26s 17ms/step - loss: 0.3378 - accuracy: 0.8824 - val_loss: 0.5450 - val_accuracy: 0.8257\n",
            "Epoch 25/50\n",
            "1562/1562 [==============================] - 26s 17ms/step - loss: 0.3348 - accuracy: 0.8839 - val_loss: 0.4595 - val_accuracy: 0.8467\n",
            "Epoch 26/50\n",
            "1562/1562 [==============================] - 26s 17ms/step - loss: 0.3240 - accuracy: 0.8864 - val_loss: 0.5078 - val_accuracy: 0.8368\n",
            "Epoch 27/50\n",
            "1562/1562 [==============================] - 26s 17ms/step - loss: 0.3177 - accuracy: 0.8891 - val_loss: 0.4544 - val_accuracy: 0.8558\n",
            "Epoch 28/50\n",
            "1562/1562 [==============================] - 26s 17ms/step - loss: 0.3140 - accuracy: 0.8918 - val_loss: 0.4697 - val_accuracy: 0.8502\n",
            "Epoch 29/50\n",
            "1562/1562 [==============================] - 26s 17ms/step - loss: 0.3080 - accuracy: 0.8935 - val_loss: 0.4450 - val_accuracy: 0.8575\n",
            "Epoch 30/50\n",
            "1562/1562 [==============================] - 26s 17ms/step - loss: 0.3006 - accuracy: 0.8949 - val_loss: 0.4633 - val_accuracy: 0.8461\n",
            "Epoch 31/50\n",
            "1562/1562 [==============================] - 27s 17ms/step - loss: 0.3002 - accuracy: 0.8954 - val_loss: 0.4181 - val_accuracy: 0.8645\n",
            "Epoch 32/50\n",
            "1562/1562 [==============================] - 26s 17ms/step - loss: 0.2898 - accuracy: 0.9004 - val_loss: 0.4681 - val_accuracy: 0.8528\n",
            "Epoch 33/50\n",
            "1562/1562 [==============================] - 26s 17ms/step - loss: 0.2819 - accuracy: 0.9032 - val_loss: 0.4654 - val_accuracy: 0.8530\n",
            "Epoch 34/50\n",
            "1562/1562 [==============================] - 26s 17ms/step - loss: 0.2817 - accuracy: 0.9012 - val_loss: 0.4511 - val_accuracy: 0.8544\n",
            "Epoch 35/50\n",
            "1562/1562 [==============================] - 26s 17ms/step - loss: 0.2757 - accuracy: 0.9033 - val_loss: 0.4194 - val_accuracy: 0.8673\n",
            "Epoch 36/50\n",
            "1562/1562 [==============================] - 26s 17ms/step - loss: 0.2721 - accuracy: 0.9043 - val_loss: 0.4117 - val_accuracy: 0.8680\n",
            "Epoch 37/50\n",
            "1562/1562 [==============================] - 27s 17ms/step - loss: 0.2682 - accuracy: 0.9069 - val_loss: 0.4124 - val_accuracy: 0.8706\n",
            "Epoch 38/50\n",
            "1562/1562 [==============================] - 26s 17ms/step - loss: 0.2664 - accuracy: 0.9069 - val_loss: 0.4519 - val_accuracy: 0.8608\n",
            "Epoch 39/50\n",
            "1562/1562 [==============================] - 26s 17ms/step - loss: 0.2562 - accuracy: 0.9098 - val_loss: 0.4645 - val_accuracy: 0.8592\n",
            "Epoch 40/50\n",
            "1562/1562 [==============================] - 26s 17ms/step - loss: 0.2541 - accuracy: 0.9119 - val_loss: 0.4259 - val_accuracy: 0.8594\n",
            "Epoch 41/50\n",
            "1562/1562 [==============================] - 26s 17ms/step - loss: 0.2540 - accuracy: 0.9114 - val_loss: 0.4672 - val_accuracy: 0.8551\n",
            "Epoch 42/50\n",
            "1562/1562 [==============================] - 26s 17ms/step - loss: 0.2487 - accuracy: 0.9124 - val_loss: 0.4304 - val_accuracy: 0.8663\n",
            "Epoch 43/50\n",
            "1562/1562 [==============================] - 26s 17ms/step - loss: 0.2479 - accuracy: 0.9139 - val_loss: 0.4107 - val_accuracy: 0.8704\n",
            "Epoch 44/50\n",
            "1562/1562 [==============================] - 26s 17ms/step - loss: 0.2370 - accuracy: 0.9168 - val_loss: 0.4361 - val_accuracy: 0.8644\n",
            "Epoch 45/50\n",
            "1562/1562 [==============================] - 26s 17ms/step - loss: 0.2366 - accuracy: 0.9173 - val_loss: 0.4166 - val_accuracy: 0.8729\n",
            "Epoch 46/50\n",
            "1562/1562 [==============================] - 26s 17ms/step - loss: 0.2374 - accuracy: 0.9172 - val_loss: 0.4048 - val_accuracy: 0.8726\n",
            "Epoch 47/50\n",
            "1562/1562 [==============================] - 26s 17ms/step - loss: 0.2332 - accuracy: 0.9197 - val_loss: 0.4132 - val_accuracy: 0.8686\n",
            "Epoch 48/50\n",
            "1562/1562 [==============================] - 26s 17ms/step - loss: 0.2336 - accuracy: 0.9189 - val_loss: 0.4297 - val_accuracy: 0.8623\n",
            "Epoch 49/50\n",
            "1562/1562 [==============================] - 27s 17ms/step - loss: 0.2235 - accuracy: 0.9223 - val_loss: 0.3781 - val_accuracy: 0.8805\n",
            "Epoch 50/50\n",
            "1562/1562 [==============================] - 26s 17ms/step - loss: 0.2249 - accuracy: 0.9208 - val_loss: 0.3981 - val_accuracy: 0.8776\n"
          ],
          "name": "stdout"
        }
      ]
    },
    {
      "cell_type": "code",
      "metadata": {
        "id": "Op73lcKgboPM",
        "colab_type": "code",
        "outputId": "74103740-2f84-491d-d87c-f86f9b164cda",
        "colab": {
          "base_uri": "https://localhost:8080/",
          "height": 282
        }
      },
      "source": [
        "# Plot loss per iteration\n",
        "import matplotlib.pyplot as plt\n",
        "plt.plot(r.history['loss'], label = 'loss')\n",
        "plt.plot(r.history['val_loss'], label = 'val_loss')\n",
        "plt.legend() # some chance of overfitting"
      ],
      "execution_count": 0,
      "outputs": [
        {
          "output_type": "execute_result",
          "data": {
            "text/plain": [
              "<matplotlib.legend.Legend at 0x7fa716fdf6a0>"
            ]
          },
          "metadata": {
            "tags": []
          },
          "execution_count": 13
        },
        {
          "output_type": "display_data",
          "data": {
            "image/png": "[encoded data removed]",
            "text/plain": [
              "<Figure size 432x288 with 1 Axes>"
            ]
          },
          "metadata": {
            "tags": []
          }
        }
      ]
    },
    {
      "cell_type": "code",
      "metadata": {
        "id": "bBOr_jjYcOIt",
        "colab_type": "code",
        "outputId": "fe31e449-1462-4168-cc1c-aaed85535031",
        "colab": {
          "base_uri": "https://localhost:8080/",
          "height": 282
        }
      },
      "source": [
        "# Plot accuracy per iteration\n",
        "plt.plot(r.history['accuracy'], label ='acc')\n",
        "plt.plot(r.history['val_accuracy'], label = 'val_acc')\n",
        "plt.legend() # training acc does not converge"
      ],
      "execution_count": 0,
      "outputs": [
        {
          "output_type": "execute_result",
          "data": {
            "text/plain": [
              "<matplotlib.legend.Legend at 0x7fa716ab8358>"
            ]
          },
          "metadata": {
            "tags": []
          },
          "execution_count": 14
        },
        {
          "output_type": "display_data",
          "data": {
            "image/png": "[encoded data removed]",
            "text/plain": [
              "<Figure size 432x288 with 1 Axes>"
            ]
          },
          "metadata": {
            "tags": []
          }
        }
      ]
    },
    {
      "cell_type": "code",
      "metadata": {
        "id": "waSGYHW-cDAf",
        "colab_type": "code",
        "colab": {}
      },
      "source": [
        "# plot confusion matrix\n",
        "from sklearn.metrics import confusion_matrix\n",
        "import numpy as np\n",
        "import itertools\n",
        "\n",
        "def plot_confusion_matrix(cm, classes, normalize = False,\n",
        "                          title = 'Confusion Matrix',\n",
        "                          cmap = plt.cm.Blues):\n",
        "  \"\"\"\n",
        "  This function prints and plots the confusion matrix.\n",
        "  Normalization can be applied by setting 'normalize=True'\n",
        "  \"\"\"\n",
        "  if normalize:\n",
        "    cm = cm.astype('float')/cm.sum(axis = 1)[:, np.newaxis]\n",
        "    print(\"Normalized Confusion Matrix\")\n",
        "\n",
        "  else:\n",
        "    print(\"Confusion matrix, without normalization\")\n",
        "\n",
        "  # print(cm)\n",
        "  plt.imshow(cm, interpolation='nearest', cmap = cmap)\n",
        "  plt.title(title)\n",
        "  plt.colorbar()\n",
        "  tick_marks = np.arange(len(classes))\n",
        "  plt.xticks(tick_marks, classes, rotation = 45)\n",
        "  plt.yticks(tick_marks, classes)\n",
        "  fmt = '.2f' if normalize else 'd'\n",
        "  thresh = cm.max()/2.\n",
        "  for i,j in itertools.product(range(cm.shape[0]), range(cm.shape[1])):\n",
        "    plt.text(j,i, format(cm[i,j], fmt),\n",
        "             horizontalalignment='center',\n",
        "             color = 'white' if cm[i,j] > thresh else 'black')\n",
        "    \n",
        "  plt.tight_layout()\n",
        "  plt.ylabel('True Label')\n",
        "  plt.xlabel('Predicted Label')\n",
        "  plt.show()"
      ],
      "execution_count": 0,
      "outputs": []
    },
    {
      "cell_type": "code",
      "metadata": {
        "id": "4XcNDomVcnul",
        "colab_type": "code",
        "outputId": "2db74980-6b9e-4bd5-ab7d-43b179fc8396",
        "colab": {
          "base_uri": "https://localhost:8080/",
          "height": 328
        }
      },
      "source": [
        "p_test = model.predict(x_test).argmax(axis=1)\n",
        "cm = confusion_matrix(y_test, p_test)\n",
        "plot_confusion_matrix(cm, list(range(K)))"
      ],
      "execution_count": 0,
      "outputs": [
        {
          "output_type": "stream",
          "text": [
            "Confusion matrix, without normalization\n"
          ],
          "name": "stdout"
        },
        {
          "output_type": "display_data",
          "data": {
            "image/png": "[encoded data removed]",
            "text/plain": [
              "<Figure size 432x288 with 2 Axes>"
            ]
          },
          "metadata": {
            "tags": []
          }
        }
      ]
    },
    {
      "cell_type": "code",
      "metadata": {
        "id": "XmPGHrkkczjE",
        "colab_type": "code",
        "colab": {}
      },
      "source": [
        "# label mapping\n",
        "labels = '''airplane\n",
        "automobile\n",
        "bird\n",
        "cat\n",
        "deer\n",
        "dog\n",
        "frog\n",
        "horse\n",
        "ship\n",
        "truck'''.split()"
      ],
      "execution_count": 0,
      "outputs": []
    },
    {
      "cell_type": "code",
      "metadata": {
        "id": "W1YYncn4dAMp",
        "colab_type": "code",
        "outputId": "b305e307-43e6-4bcd-8ae2-c801d90fe34b",
        "colab": {
          "base_uri": "https://localhost:8080/",
          "height": 281
        }
      },
      "source": [
        "# Show some misclassified examples\n",
        "misclassified_idx = np.where(p_test != y_test)[0]\n",
        "i = np.random.choice(misclassified_idx)\n",
        "plt.imshow(x_test[i], cmap = 'gray')\n",
        "plt.title(\"True label: %s, Predicted: %s\" % (labels[y_test[i]], labels[p_test[i]]));"
      ],
      "execution_count": 0,
      "outputs": [
        {
          "output_type": "display_data",
          "data": {
            "image/png": "[encoded data removed]",
            "text/plain": [
              "<Figure size 432x288 with 1 Axes>"
            ]
          },
          "metadata": {
            "tags": []
          }
        }
      ]
    },
    {
      "cell_type": "code",
      "metadata": {
        "id": "Sv8OvtAoddk0",
        "colab_type": "code",
        "outputId": "543962cb-116b-4c37-a05f-4728010a9319",
        "colab": {
          "base_uri": "https://localhost:8080/",
          "height": 867
        }
      },
      "source": [
        "# Now that the model is so large, it's useful to summarize it\n",
        "model.summary() "
      ],
      "execution_count": 0,
      "outputs": [
        {
          "output_type": "stream",
          "text": [
            "Model: \"model\"\n",
            "_________________________________________________________________\n",
            "Layer (type)                 Output Shape              Param #   \n",
            "=================================================================\n",
            "input_3 (InputLayer)         [(None, 32, 32, 3)]       0         \n",
            "_________________________________________________________________\n",
            "conv2d_2 (Conv2D)            (None, 32, 32, 32)        896       \n",
            "_________________________________________________________________\n",
            "batch_normalization (BatchNo (None, 32, 32, 32)        128       \n",
            "_________________________________________________________________\n",
            "conv2d_3 (Conv2D)            (None, 32, 32, 32)        9248      \n",
            "_________________________________________________________________\n",
            "batch_normalization_1 (Batch (None, 32, 32, 32)        128       \n",
            "_________________________________________________________________\n",
            "conv2d_4 (Conv2D)            (None, 32, 32, 32)        9248      \n",
            "_________________________________________________________________\n",
            "max_pooling2d (MaxPooling2D) (None, 16, 16, 32)        0         \n",
            "_________________________________________________________________\n",
            "conv2d_5 (Conv2D)            (None, 16, 16, 64)        18496     \n",
            "_________________________________________________________________\n",
            "batch_normalization_2 (Batch (None, 16, 16, 64)        256       \n",
            "_________________________________________________________________\n",
            "max_pooling2d_1 (MaxPooling2 (None, 8, 8, 64)          0         \n",
            "_________________________________________________________________\n",
            "conv2d_6 (Conv2D)            (None, 8, 8, 128)         73856     \n",
            "_________________________________________________________________\n",
            "batch_normalization_3 (Batch (None, 8, 8, 128)         512       \n",
            "_________________________________________________________________\n",
            "max_pooling2d_2 (MaxPooling2 (None, 4, 4, 128)         0         \n",
            "_________________________________________________________________\n",
            "conv2d_7 (Conv2D)            (None, 4, 4, 128)         147584    \n",
            "_________________________________________________________________\n",
            "batch_normalization_4 (Batch (None, 4, 4, 128)         512       \n",
            "_________________________________________________________________\n",
            "max_pooling2d_3 (MaxPooling2 (None, 2, 2, 128)         0         \n",
            "_________________________________________________________________\n",
            "flatten_2 (Flatten)          (None, 512)               0         \n",
            "_________________________________________________________________\n",
            "dropout (Dropout)            (None, 512)               0         \n",
            "_________________________________________________________________\n",
            "dense (Dense)                (None, 1024)              525312    \n",
            "_________________________________________________________________\n",
            "dropout_1 (Dropout)          (None, 1024)              0         \n",
            "_________________________________________________________________\n",
            "dense_1 (Dense)              (None, 10)                10250     \n",
            "=================================================================\n",
            "Total params: 796,426\n",
            "Trainable params: 795,658\n",
            "Non-trainable params: 768\n",
            "_________________________________________________________________\n"
          ],
          "name": "stdout"
        }
      ]
    },
    {
      "cell_type": "code",
      "metadata": {
        "id": "rff7j8vqz0pr",
        "colab_type": "code",
        "colab": {}
      },
      "source": [
        ""
      ],
      "execution_count": 0,
      "outputs": []
    }
  ]
}