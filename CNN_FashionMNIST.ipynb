{
  "nbformat": 4,
  "nbformat_minor": 0,
  "metadata": {
    "colab": {
      "name": "CNN_FashionMNIST.ipynb",
      "provenance": []
    },
    "kernelspec": {
      "name": "python3",
      "display_name": "Python 3"
    },
    "accelerator": "GPU"
  },
  "cells": [
    {
      "cell_type": "code",
      "metadata": {
        "id": "L9lqd-oOQqje",
        "colab_type": "code",
        "outputId": "56677277-6dde-4bfa-e248-4645991a4748",
        "colab": {
          "base_uri": "https://localhost:8080/",
          "height": 51
        }
      },
      "source": [
        "%tensorflow_version 2.x\n",
        "import tensorflow as tf\n",
        "print(tf.__version__)"
      ],
      "execution_count": 0,
      "outputs": [
        {
          "output_type": "stream",
          "text": [
            "TensorFlow 2.x selected.\n",
            "2.1.0-rc1\n"
          ],
          "name": "stdout"
        }
      ]
    },
    {
      "cell_type": "code",
      "metadata": {
        "id": "kEGBBRJFQz_5",
        "colab_type": "code",
        "colab": {}
      },
      "source": [
        "import numpy as np\n",
        "import matplotlib.pyplot as plt\n",
        "from tensorflow.keras.layers import Input, Conv2D, Dense, Flatten, Dropout\n",
        "from tensorflow.keras.models import Model"
      ],
      "execution_count": 0,
      "outputs": []
    },
    {
      "cell_type": "code",
      "metadata": {
        "id": "S9FVG-IoRLiE",
        "colab_type": "code",
        "outputId": "4f4910eb-67d8-4a75-f777-6e7dadfb108a",
        "colab": {
          "base_uri": "https://localhost:8080/",
          "height": 34
        }
      },
      "source": [
        "# Load in the data\n",
        "fashion_mnist = tf.keras.datasets.fashion_mnist\n",
        "\n",
        "(x_train, y_train), (x_test, y_test) = fashion_mnist.load_data()\n",
        "x_train, x_test = x_train/255.0, x_test/255.0\n",
        "print(\"x_train.shape: \", x_train.shape)"
      ],
      "execution_count": 0,
      "outputs": [
        {
          "output_type": "stream",
          "text": [
            "x_train.shape:  (60000, 28, 28)\n"
          ],
          "name": "stdout"
        }
      ]
    },
    {
      "cell_type": "code",
      "metadata": {
        "id": "3vwePvmXRhWG",
        "colab_type": "code",
        "outputId": "0fb98336-45c0-4d69-9c1d-a14f9aeb95b5",
        "colab": {
          "base_uri": "https://localhost:8080/",
          "height": 34
        }
      },
      "source": [
        "# the data is only 2D!\n",
        "# convolution expects height x width x color\n",
        "x_train = np.expand_dims(x_train, -1) \n",
        "x_test = np.expand_dims(x_test, -1)\n",
        "print(x_train.shape)"
      ],
      "execution_count": 0,
      "outputs": [
        {
          "output_type": "stream",
          "text": [
            "(60000, 28, 28, 1)\n"
          ],
          "name": "stdout"
        }
      ]
    },
    {
      "cell_type": "code",
      "metadata": {
        "id": "WCQVH4cQR7Vh",
        "colab_type": "code",
        "outputId": "3dd65192-8491-4b55-b63e-ac98b5ae0287",
        "colab": {
          "base_uri": "https://localhost:8080/",
          "height": 34
        }
      },
      "source": [
        "# Number of classes\n",
        "K = len(set(y_train)) # checking number of unique elements of y_train\n",
        "print(\"Number of classes: \", K)"
      ],
      "execution_count": 0,
      "outputs": [
        {
          "output_type": "stream",
          "text": [
            "Number of classes:  10\n"
          ],
          "name": "stdout"
        }
      ]
    },
    {
      "cell_type": "code",
      "metadata": {
        "id": "hDIVxX1qSDWP",
        "colab_type": "code",
        "colab": {}
      },
      "source": [
        "# Build the model using Keras functional API\n",
        "i = Input(shape = x_train[0].shape)\n",
        "x = Conv2D(32, (3,3), strides=2, activation='relu')(i)\n",
        "x = Conv2D(64, (3,3), strides=2, activation='relu')(x)\n",
        "x = Conv2D(128, (3,3), strides=2, activation='relu')(x) # increasing feature maps at each layer 32>64>128\n",
        "x = Flatten()(x)\n",
        "x = Dropout(0.2)(x)\n",
        "x = Dense(512, activation='relu')(x)\n",
        "x = Dropout(0.2)(x)\n",
        "x = Dense(K, activation='softmax')(x)\n",
        "\n",
        "model = Model(i,x) #single input, single output"
      ],
      "execution_count": 0,
      "outputs": []
    },
    {
      "cell_type": "code",
      "metadata": {
        "id": "XzXefN_OUEm_",
        "colab_type": "code",
        "outputId": "6a383585-4b25-4b0e-f3f9-72a887ced554",
        "colab": {
          "base_uri": "https://localhost:8080/",
          "height": 34
        }
      },
      "source": [
        "if tf.test.gpu_device_name():\n",
        "  print('Default GPU Device: {}'.format(tf.test.gpu_device_name()))\n",
        "else:\n",
        "   print(\"Please install GPU version of TF\")"
      ],
      "execution_count": 0,
      "outputs": [
        {
          "output_type": "stream",
          "text": [
            "Default GPU Device: /device:GPU:0\n"
          ],
          "name": "stdout"
        }
      ]
    },
    {
      "cell_type": "code",
      "metadata": {
        "id": "MuJVK0bDSu8h",
        "colab_type": "code",
        "outputId": "acab0ad3-a5bd-402a-b397-68628decdf3e",
        "colab": {
          "base_uri": "https://localhost:8080/",
          "height": 544
        }
      },
      "source": [
        "# Compile and fit\n",
        "# Note: make sure you are using the GPU for this!\n",
        "model.compile(optimizer='adam',\n",
        "              loss='sparse_categorical_crossentropy',\n",
        "              metrics = ['accuracy'])\n",
        "r = model.fit(x_train, y_train, validation_data=(x_test, y_test), epochs=15)"
      ],
      "execution_count": 0,
      "outputs": [
        {
          "output_type": "stream",
          "text": [
            "Train on 60000 samples, validate on 10000 samples\n",
            "Epoch 1/15\n",
            "60000/60000 [==============================] - 8s 132us/sample - loss: 0.5235 - accuracy: 0.8077 - val_loss: 0.4018 - val_accuracy: 0.8463\n",
            "Epoch 2/15\n",
            "60000/60000 [==============================] - 6s 98us/sample - loss: 0.3592 - accuracy: 0.8661 - val_loss: 0.3452 - val_accuracy: 0.8693\n",
            "Epoch 3/15\n",
            "60000/60000 [==============================] - 6s 98us/sample - loss: 0.3082 - accuracy: 0.8853 - val_loss: 0.3181 - val_accuracy: 0.8829\n",
            "Epoch 4/15\n",
            "60000/60000 [==============================] - 6s 99us/sample - loss: 0.2761 - accuracy: 0.8959 - val_loss: 0.3070 - val_accuracy: 0.8894\n",
            "Epoch 5/15\n",
            "60000/60000 [==============================] - 6s 99us/sample - loss: 0.2497 - accuracy: 0.9051 - val_loss: 0.3001 - val_accuracy: 0.8932\n",
            "Epoch 6/15\n",
            "60000/60000 [==============================] - 6s 96us/sample - loss: 0.2271 - accuracy: 0.9137 - val_loss: 0.3018 - val_accuracy: 0.8937\n",
            "Epoch 7/15\n",
            "60000/60000 [==============================] - 6s 97us/sample - loss: 0.2105 - accuracy: 0.9188 - val_loss: 0.2875 - val_accuracy: 0.9009\n",
            "Epoch 8/15\n",
            "60000/60000 [==============================] - 6s 99us/sample - loss: 0.1930 - accuracy: 0.9259 - val_loss: 0.2983 - val_accuracy: 0.9001\n",
            "Epoch 9/15\n",
            "60000/60000 [==============================] - 6s 99us/sample - loss: 0.1806 - accuracy: 0.9309 - val_loss: 0.3051 - val_accuracy: 0.9006\n",
            "Epoch 10/15\n",
            "60000/60000 [==============================] - 6s 102us/sample - loss: 0.1674 - accuracy: 0.9361 - val_loss: 0.3006 - val_accuracy: 0.9021\n",
            "Epoch 11/15\n",
            "60000/60000 [==============================] - 6s 98us/sample - loss: 0.1553 - accuracy: 0.9406 - val_loss: 0.3172 - val_accuracy: 0.9005\n",
            "Epoch 12/15\n",
            "60000/60000 [==============================] - 6s 98us/sample - loss: 0.1473 - accuracy: 0.9437 - val_loss: 0.3329 - val_accuracy: 0.8995\n",
            "Epoch 13/15\n",
            "60000/60000 [==============================] - 6s 102us/sample - loss: 0.1368 - accuracy: 0.9480 - val_loss: 0.3450 - val_accuracy: 0.8957\n",
            "Epoch 14/15\n",
            "60000/60000 [==============================] - 6s 106us/sample - loss: 0.1291 - accuracy: 0.9508 - val_loss: 0.3679 - val_accuracy: 0.9001\n",
            "Epoch 15/15\n",
            "60000/60000 [==============================] - 6s 101us/sample - loss: 0.1243 - accuracy: 0.9526 - val_loss: 0.4001 - val_accuracy: 0.8983\n"
          ],
          "name": "stdout"
        }
      ]
    },
    {
      "cell_type": "code",
      "metadata": {
        "id": "FCIc-agLUFTO",
        "colab_type": "code",
        "outputId": "d62687e5-4c82-4dd8-bf19-94c84bd30ef8",
        "colab": {
          "base_uri": "https://localhost:8080/",
          "height": 282
        }
      },
      "source": [
        "# Plot loss per iteration\n",
        "import matplotlib.pyplot as plt\n",
        "plt.plot(r.history['loss'], label = 'loss')\n",
        "plt.plot(r.history['val_loss'], label = 'val_loss')\n",
        "plt.legend() # appears to be overfitting because val_loss goes up!"
      ],
      "execution_count": 0,
      "outputs": [
        {
          "output_type": "execute_result",
          "data": {
            "text/plain": [
              "<matplotlib.legend.Legend at 0x7fb030127ac8>"
            ]
          },
          "metadata": {
            "tags": []
          },
          "execution_count": 9
        },
        {
          "output_type": "display_data",
          "data": {
            "image/png": "[encoded data removed]",
            "text/plain": [
              "<Figure size 432x288 with 1 Axes>"
            ]
          },
          "metadata": {
            "tags": []
          }
        }
      ]
    },
    {
      "cell_type": "code",
      "metadata": {
        "id": "9nmchnDXUdKE",
        "colab_type": "code",
        "outputId": "4be1e895-7149-4ad0-e205-3cb19015a17d",
        "colab": {
          "base_uri": "https://localhost:8080/",
          "height": 282
        }
      },
      "source": [
        "# Plot accuracy per iteration\n",
        "plt.plot(r.history['accuracy'], label = 'acc')\n",
        "plt.plot(r.history['val_accuracy'], label = 'val_acc')\n",
        "plt.legend() \n",
        "# validation accuracy stays steady\n",
        "# this is interesting to see when the validation loss simultaneously goes up\n",
        "# means model is becoming more and more confident in its incorrect predictions\n",
        "# when predictions become more and more incorrect, loss gets bigger and bigger\n",
        "# a prediction becoming more incorrect when it was already incorrect will not affect accuracy"
      ],
      "execution_count": 0,
      "outputs": [
        {
          "output_type": "execute_result",
          "data": {
            "text/plain": [
              "<matplotlib.legend.Legend at 0x7fb000521fd0>"
            ]
          },
          "metadata": {
            "tags": []
          },
          "execution_count": 10
        },
        {
          "output_type": "display_data",
          "data": {
            "image/png": "[encoded data removed]",
            "text/plain": [
              "<Figure size 432x288 with 1 Axes>"
            ]
          },
          "metadata": {
            "tags": []
          }
        }
      ]
    },
    {
      "cell_type": "code",
      "metadata": {
        "id": "gD2WQlj2WBd4",
        "colab_type": "code",
        "colab": {}
      },
      "source": [
        "# plot confusion matrix\n",
        "from sklearn.metrics import confusion_matrix\n",
        "import numpy as np\n",
        "import itertools\n",
        "\n",
        "def plot_confusion_matrix(cm, classes, normalize = False,\n",
        "                          title = 'Confusion Matrix',\n",
        "                          cmap = plt.cm.Blues):\n",
        "  \"\"\"\n",
        "  This function prints and plots the confusion matrix.\n",
        "  Normalization can be applied by setting 'normalize=True'\n",
        "  \"\"\"\n",
        "  if normalize:\n",
        "    cm = cm.astype('float')/cm.sum(axis = 1)[:, np.newaxis]\n",
        "    print(\"Normalized Confusion Matrix\")\n",
        "\n",
        "  else:\n",
        "    print(\"Confusion matrix, without normalization\")\n",
        "\n",
        "  # print(cm)\n",
        "  plt.imshow(cm, interpolation='nearest', cmap = cmap)\n",
        "  plt.title(title)\n",
        "  plt.colorbar()\n",
        "  tick_marks = np.arange(len(classes))\n",
        "  plt.xticks(tick_marks, classes, rotation = 45)\n",
        "  plt.yticks(tick_marks, classes)\n",
        "  fmt = '.2f' if normalize else 'd'\n",
        "  thresh = cm.max()/2.\n",
        "  for i,j in itertools.product(range(cm.shape[0]), range(cm.shape[1])):\n",
        "    plt.text(j,i, format(cm[i,j], fmt),\n",
        "             horizontalalignment='center',\n",
        "             color = 'white' if cm[i,j] > thresh else 'black')\n",
        "    \n",
        "  plt.tight_layout()\n",
        "  plt.ylabel('True Label')\n",
        "  plt.xlabel('Predicted Label')\n",
        "  plt.show()"
      ],
      "execution_count": 0,
      "outputs": []
    },
    {
      "cell_type": "code",
      "metadata": {
        "id": "x9P1LryzXCuF",
        "colab_type": "code",
        "outputId": "6549a3f5-3dd8-4d73-d8c7-40b932dab98a",
        "colab": {
          "base_uri": "https://localhost:8080/",
          "height": 328
        }
      },
      "source": [
        "p_test = model.predict(x_test).argmax(axis=1)\n",
        "cm = confusion_matrix(y_test, p_test)\n",
        "plot_confusion_matrix(cm, list(range(K)))"
      ],
      "execution_count": 0,
      "outputs": [
        {
          "output_type": "stream",
          "text": [
            "Confusion matrix, without normalization\n"
          ],
          "name": "stdout"
        },
        {
          "output_type": "display_data",
          "data": {
            "image/png": "[encoded data removed]",
            "text/plain": [
              "<Figure size 432x288 with 2 Axes>"
            ]
          },
          "metadata": {
            "tags": []
          }
        }
      ]
    },
    {
      "cell_type": "code",
      "metadata": {
        "id": "9XIHKCOfXRtw",
        "colab_type": "code",
        "colab": {}
      },
      "source": [
        "# Label mapping\n",
        "labels = ''' T-shirt/top\n",
        "Trouser\n",
        "Pullover\n",
        "Dress\n",
        "Coat\n",
        "Sandal\n",
        "Shirt\n",
        "Sneaker\n",
        "Bag\n",
        "AnkleBoot'''.split()"
      ],
      "execution_count": 0,
      "outputs": []
    },
    {
      "cell_type": "code",
      "metadata": {
        "id": "RJOdvHbsXkhV",
        "colab_type": "code",
        "outputId": "6f69f30e-b728-49df-e303-9990e6f6ed38",
        "colab": {
          "base_uri": "https://localhost:8080/",
          "height": 281
        }
      },
      "source": [
        "# Show some misclassified examples\n",
        "misclassified_idx = np.where(p_test != y_test)[0]\n",
        "i = np.random.choice(misclassified_idx)\n",
        "plt.imshow(x_test[i].reshape(28,28), cmap = 'gray')\n",
        "plt.title('True label: %s, Predicted: %s' % (labels[y_test[i]], labels[p_test[i]]));"
      ],
      "execution_count": 0,
      "outputs": [
        {
          "output_type": "display_data",
          "data": {
            "image/png": "[encoded data removed]",
            "text/plain": [
              "<Figure size 432x288 with 1 Axes>"
            ]
          },
          "metadata": {
            "tags": []
          }
        }
      ]
    },
    {
      "cell_type": "code",
      "metadata": {
        "id": "NOn48d46YAOR",
        "colab_type": "code",
        "colab": {}
      },
      "source": [
        ""
      ],
      "execution_count": 0,
      "outputs": []
    }
  ]
}