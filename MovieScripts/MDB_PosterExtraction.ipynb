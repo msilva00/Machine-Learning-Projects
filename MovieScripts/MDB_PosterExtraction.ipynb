{
 "cells": [
  {
   "cell_type": "code",
   "execution_count": 1,
   "metadata": {},
   "outputs": [],
   "source": [
    "import time"
   ]
  },
  {
   "cell_type": "code",
   "execution_count": 3,
   "metadata": {},
   "outputs": [],
   "source": [
    "import requests\n",
    "import urllib.request as req\n",
    "from PIL import Image\n",
    "from IPython.display import clear_output\n",
    "# from tqdm import tqdm"
   ]
  },
  {
   "cell_type": "code",
   "execution_count": 4,
   "metadata": {},
   "outputs": [],
   "source": [
    "CONFIG_PATTERN = 'http://api.themoviedb.org/3/discover/movie?api_key={key}&sort_by=popularity.desc&page={page}'"
   ]
  },
  {
   "cell_type": "code",
   "execution_count": 5,
   "metadata": {},
   "outputs": [],
   "source": [
    "KEY = '58f46cd179e3ec287410d723fafd6d76'\n",
    "config = []"
   ]
  },
  {
   "cell_type": "code",
   "execution_count": null,
   "metadata": {},
   "outputs": [],
   "source": []
  },
  {
   "cell_type": "code",
   "execution_count": null,
   "metadata": {},
   "outputs": [],
   "source": [
    "\n"
   ]
  },
  {
   "cell_type": "code",
   "execution_count": 6,
   "metadata": {},
   "outputs": [],
   "source": [
    "base_url = 'http://image.tmdb.org/t/p/original'"
   ]
  },
  {
   "cell_type": "code",
   "execution_count": 7,
   "metadata": {},
   "outputs": [],
   "source": [
    "lst = range(1,501)\n",
    "str_pages = [\"{:1d}\".format(x) for x in lst]"
   ]
  },
  {
   "cell_type": "code",
   "execution_count": 8,
   "metadata": {},
   "outputs": [],
   "source": [
    "for i in range(len(str_pages)):\n",
    "    CONFIG_PATTERN = 'http://api.themoviedb.org/3/discover/movie?api_key={key}&sort_by=popularity.desc&page={page}'\n",
    "    KEY = '58f46cd179e3ec287410d723fafd6d76'\n",
    "    url = CONFIG_PATTERN.format(key=KEY, page = str_pages[i])\n",
    "    r = requests.get(url)\n",
    "    config.append(r.json())"
   ]
  },
  {
   "cell_type": "code",
   "execution_count": 9,
   "metadata": {},
   "outputs": [],
   "source": [
    "test = []\n",
    "testtt = []\n",
    "for page in range(500):\n",
    "    testtt = [config[page]['results'][i]['poster_path'] for i in range(len(config[page]['results']))]\n",
    "# config[0]['results'][print(i) for i in testtt]['poster_path']\n",
    "    test.append(testtt)\n",
    "flattened_list = [y for x in test for y in x]"
   ]
  },
  {
   "cell_type": "code",
   "execution_count": 10,
   "metadata": {},
   "outputs": [
    {
     "data": {
      "text/plain": [
       "'http://image.tmdb.org/t/p/original/xBHvZcjRiWyobQ9kxBhO6B2dtRI.jpg'"
      ]
     },
     "execution_count": 10,
     "metadata": {},
     "output_type": "execute_result"
    }
   ],
   "source": [
    "base_url + flattened_list[0]"
   ]
  },
  {
   "cell_type": "code",
   "execution_count": null,
   "metadata": {},
   "outputs": [
    {
     "name": "stdout",
     "output_type": "stream",
     "text": [
      "93.0 % COMPLETE\n"
     ]
    }
   ],
   "source": [
    "for i in range(840,len(flattened_list)):\n",
    "#     if (i % 10) == 0:\n",
    "#         print(i)\n",
    "    if (i % 100) == 0:\n",
    "        clear_output()\n",
    "        print(i/len(flattened_list)*100, \"% COMPLETE\")\n",
    "    if flattened_list[i] is not None: \n",
    "        filename = 'poster_{}.jpg'.format(i)\n",
    "        req.urlretrieve(base_url + flattened_list[i], filename)\n",
    "#         basewidth = 75\n",
    "        img = Image.open(filename)\n",
    "#         wpercent = (basewidth/float(img.size[0]))\n",
    "#         hsize = int((float(img.size[1])*float(wpercent)))\n",
    "        img = img.resize((224,224), Image.ANTIALIAS)\n",
    "        img.save(filename) "
   ]
  },
  {
   "cell_type": "code",
   "execution_count": null,
   "metadata": {},
   "outputs": [],
   "source": [
    "for page in (range(500)):\n",
    "    clear_output()\n",
    "    print(\"outer iter: \", page)\n",
    "    test = []\n",
    "    for i in range(len(config[page]['results'])):\n",
    "        test.append(config[page]['results'][i])\n",
    "    url2 = []\n",
    "    for i in range(len(config[page]['results'])):\n",
    "        # some movie titles have no poster path\n",
    "        if(test[i]['poster_path'] is not None):\n",
    "            url2.append(test[i]['poster_path'])\n",
    "    full_url = []\n",
    "    for i in range(len(url2)):\n",
    "        full_url.append(base_url + url2[i])\n",
    "\n",
    "    \n",
    "    for i in range(len(full_url)):\n",
    "        \n",
    "        print(i)\n",
    "        filename = 'poster_{0}_{1}.jpg'.format(page, i)\n",
    "        req.urlretrieve(full_url[i], filename)\n",
    "        basewidth = 75\n",
    "        img = Image.open(filename)\n",
    "        wpercent = (basewidth/float(img.size[0]))\n",
    "        hsize = int((float(img.size[1])*float(wpercent)))\n",
    "        img = img.resize((basewidth,hsize), Image.ANTIALIAS)\n",
    "        img.save(filename) \n",
    "    \n",
    "        \n"
   ]
  },
  {
   "cell_type": "code",
   "execution_count": null,
   "metadata": {},
   "outputs": [],
   "source": [
    "testtt = []\n",
    "for page in range(182,500):\n",
    "    clear_output()\n",
    "    print(\"outer iter: \", page)\n"
   ]
  },
  {
   "cell_type": "code",
   "execution_count": null,
   "metadata": {},
   "outputs": [],
   "source": [
    "page*len(url2)"
   ]
  },
  {
   "cell_type": "code",
   "execution_count": null,
   "metadata": {},
   "outputs": [],
   "source": [
    "test = []\n",
    "url2 = []\n",
    "full_url = []\n",
    "filename = []\n",
    "page = -1\n",
    "while page < 499:\n",
    "    page += 1\n",
    "    for i in range(len(config[page]['results'])):\n",
    "        test.append(config[page]['results'][i])\n",
    "\n",
    "    for i in range(len(config[page]['results'])):\n",
    "        url2.append(test[i]['poster_path'])\n",
    "\n",
    "    for i in range(len(config[page]['results'])):\n",
    "        full_url.append(base_url + url2[i])\n",
    "\n",
    "\n",
    "    \n",
    "    for i in range(len(config[page]['results'])):\n",
    "        filename.append('poster_{0}_{1}.jpg'.format(page, i))\n",
    "    \n",
    "\n",
    "#     for i in range(len(config[page]['results'])):\n",
    "#         print(page, i)\n",
    "#         filename.append('poster{0}_{1}.jpg'.format(page, i))\n",
    "#         print(filename[i])\n",
    "\n",
    "#     for i in range(len(config[page]['results'])):\n",
    "#         req.urlretrieve(full_url[i], filename[i])"
   ]
  },
  {
   "cell_type": "code",
   "execution_count": null,
   "metadata": {},
   "outputs": [],
   "source": [
    "config[1]['results'][0]['title']"
   ]
  },
  {
   "cell_type": "code",
   "execution_count": null,
   "metadata": {},
   "outputs": [],
   "source": [
    "full_url[0]"
   ]
  },
  {
   "cell_type": "code",
   "execution_count": null,
   "metadata": {},
   "outputs": [],
   "source": [
    "full_url[20]"
   ]
  },
  {
   "cell_type": "code",
   "execution_count": null,
   "metadata": {},
   "outputs": [],
   "source": [
    "# for i in range(len(full_url)):\n",
    "\n",
    "req.urlretrieve(full_url[0], filename[0])"
   ]
  },
  {
   "cell_type": "code",
   "execution_count": null,
   "metadata": {},
   "outputs": [],
   "source": [
    "full_url[0]"
   ]
  },
  {
   "cell_type": "code",
   "execution_count": null,
   "metadata": {},
   "outputs": [],
   "source": []
  },
  {
   "cell_type": "code",
   "execution_count": null,
   "metadata": {},
   "outputs": [],
   "source": [
    "f = urlopen(full_url[0])"
   ]
  },
  {
   "cell_type": "code",
   "execution_count": null,
   "metadata": {},
   "outputs": [],
   "source": [
    "filename = []\n",
    "for i in range(len(full_url)):\n",
    "    filename.append('poster_{0}.jpg'.format(i))"
   ]
  },
  {
   "cell_type": "code",
   "execution_count": null,
   "metadata": {},
   "outputs": [],
   "source": [
    "full_url"
   ]
  },
  {
   "cell_type": "code",
   "execution_count": null,
   "metadata": {},
   "outputs": [],
   "source": []
  },
  {
   "cell_type": "code",
   "execution_count": null,
   "metadata": {},
   "outputs": [],
   "source": [
    "for i in range(len(full_url)):\n",
    "    req.urlretrieve(full_url[i], filename[i])"
   ]
  },
  {
   "cell_type": "code",
   "execution_count": null,
   "metadata": {},
   "outputs": [],
   "source": [
    "filename = []\n",
    "filename.append('poster{0}_{1}.jpg'.format(2, 2))\n",
    "print(filename)"
   ]
  },
  {
   "cell_type": "code",
   "execution_count": null,
   "metadata": {},
   "outputs": [],
   "source": []
  },
  {
   "cell_type": "code",
   "execution_count": null,
   "metadata": {},
   "outputs": [],
   "source": []
  },
  {
   "cell_type": "code",
   "execution_count": null,
   "metadata": {},
   "outputs": [],
   "source": []
  },
  {
   "cell_type": "code",
   "execution_count": null,
   "metadata": {},
   "outputs": [],
   "source": []
  },
  {
   "cell_type": "code",
   "execution_count": null,
   "metadata": {},
   "outputs": [],
   "source": [
    "for i in range(len(config[pg1]['results'])):\n",
    "    test.append(config[pg1]['results'][i])\n",
    "    \n",
    "for i in range(len(config[pg1]['results'])):\n",
    "    url2.append(test[i]['poster_path'])\n",
    "\n",
    "for i in range(len(config[pg1]['results'])):\n",
    "    full_url.append(base_url + url2[i])\n",
    "\n"
   ]
  },
  {
   "cell_type": "code",
   "execution_count": null,
   "metadata": {},
   "outputs": [],
   "source": [
    "\n",
    "for i in range(len(config[pg1]['results'])):\n",
    "    filename.append('poster{0}_{1}.jpg'.format(pg1, i))\n",
    "\n",
    "filename"
   ]
  },
  {
   "cell_type": "code",
   "execution_count": null,
   "metadata": {},
   "outputs": [],
   "source": [
    "full_url"
   ]
  },
  {
   "cell_type": "code",
   "execution_count": null,
   "metadata": {},
   "outputs": [],
   "source": [
    "import urllib.request as req\n",
    "for i in range(len(config[pg1]['results'])):\n",
    "    req.urlretrieve(full_url[i], filename[i])\n",
    "    \n",
    "\n",
    "# imgurl =\"https://i.ytimg.com/vi/Ks-_Mh1QhMc/hqdefault.jpg\"\n",
    "\n",
    "# req.urlretrieve(imgurl, \"image_name.jpg\")"
   ]
  }
 ],
 "metadata": {
  "kernelspec": {
   "display_name": "conda_python3",
   "language": "python",
   "name": "conda_python3"
  },
  "language_info": {
   "codemirror_mode": {
    "name": "ipython",
    "version": 3
   },
   "file_extension": ".py",
   "mimetype": "text/x-python",
   "name": "python",
   "nbconvert_exporter": "python",
   "pygments_lexer": "ipython3",
   "version": "3.6.5"
  }
 },
 "nbformat": 4,
 "nbformat_minor": 2
}
