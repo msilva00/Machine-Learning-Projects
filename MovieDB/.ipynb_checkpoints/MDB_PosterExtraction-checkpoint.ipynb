{
 "cells": [
  {
   "cell_type": "code",
   "execution_count": 261,
   "metadata": {},
   "outputs": [],
   "source": [
    "import requests\n",
    "import urllib.request as req"
   ]
  },
  {
   "cell_type": "code",
   "execution_count": 262,
   "metadata": {},
   "outputs": [],
   "source": [
    "CONFIG_PATTERN = 'http://api.themoviedb.org/3/discover/movie?api_key={key}&sort_by=popularity.desc&page={page}'"
   ]
  },
  {
   "cell_type": "code",
   "execution_count": 334,
   "metadata": {},
   "outputs": [],
   "source": [
    "KEY = '58f46cd179e3ec287410d723fafd6d76'\n",
    "config = []\n"
   ]
  },
  {
   "cell_type": "code",
   "execution_count": 348,
   "metadata": {},
   "outputs": [],
   "source": [
    "base_url = 'http://image.tmdb.org/t/p/original'"
   ]
  },
  {
   "cell_type": "code",
   "execution_count": 336,
   "metadata": {},
   "outputs": [
    {
     "data": {
      "text/plain": [
       "'1'"
      ]
     },
     "execution_count": 336,
     "metadata": {},
     "output_type": "execute_result"
    }
   ],
   "source": [
    "lst = range(1,501)\n",
    "str_pages = [\"{:1d}\".format(x) for x in lst]\n",
    "str_pages[0]"
   ]
  },
  {
   "cell_type": "code",
   "execution_count": 337,
   "metadata": {},
   "outputs": [],
   "source": [
    "for i in range(len(str_pages)):\n",
    "    CONFIG_PATTERN = 'http://api.themoviedb.org/3/discover/movie?api_key={key}&sort_by=popularity.desc&page={page}'\n",
    "    KEY = '58f46cd179e3ec287410d723fafd6d76'\n",
    "    url = CONFIG_PATTERN.format(key=KEY, page = str_pages[i])\n",
    "    r = requests.get(url)\n",
    "    config.append(r.json())"
   ]
  },
  {
   "cell_type": "code",
   "execution_count": 355,
   "metadata": {},
   "outputs": [
    {
     "data": {
      "text/plain": [
       "range(0, 500)"
      ]
     },
     "execution_count": 355,
     "metadata": {},
     "output_type": "execute_result"
    }
   ],
   "source": [
    "test = []\n",
    "url2 = []\n",
    "full_url = []\n",
    "filename = []\n",
    "pg1 = 0\n",
    "for i in range(500):\n",
    "    pg_num = 0\n",
    "    "
   ]
  },
  {
   "cell_type": "code",
   "execution_count": 350,
   "metadata": {},
   "outputs": [
    {
     "data": {
      "text/plain": [
       "['http://image.tmdb.org/t/p/original/db32LaOibwEliAmSL2jjDF6oDdj.jpg',\n",
       " 'http://image.tmdb.org/t/p/original/xBHvZcjRiWyobQ9kxBhO6B2dtRI.jpg',\n",
       " 'http://image.tmdb.org/t/p/original/jyw8VKYEiM1UDzPB7NsisUgBeJ8.jpg',\n",
       " 'http://image.tmdb.org/t/p/original/yJdeWaVXa2se9agI6B4mQunVYkB.jpg',\n",
       " 'http://image.tmdb.org/t/p/original/udDclJoHjfjb8Ekgsd4FDteOkCU.jpg',\n",
       " 'http://image.tmdb.org/t/p/original/dtRbVsUb5O12WWO54SRpiMtHKC0.jpg',\n",
       " 'http://image.tmdb.org/t/p/original/lnWkyG3LLgbbrIEeyl5mK5VRFe4.jpg',\n",
       " 'http://image.tmdb.org/t/p/original/pjeMs3yqRmFL3giJy4PMXWZTTPa.jpg',\n",
       " 'http://image.tmdb.org/t/p/original/7WsyChQLEftFiDOVTGkv3hFpyyt.jpg',\n",
       " 'http://image.tmdb.org/t/p/original/eU0orGizEpOli4wtN8HtfOOJDlA.jpg']"
      ]
     },
     "execution_count": 350,
     "metadata": {},
     "output_type": "execute_result"
    }
   ],
   "source": [
    "for i in range(len(config[pg1]['results'])):\n",
    "    test.append(config[pg1]['results'][i])\n",
    "    \n",
    "for i in range(len(config[pg1]['results'])):\n",
    "    url2.append(test[i]['poster_path'])\n",
    "\n",
    "for i in range(len(config[pg1]['results'])):\n",
    "    full_url.append(base_url + url2[i])\n",
    "\n"
   ]
  },
  {
   "cell_type": "code",
   "execution_count": 351,
   "metadata": {},
   "outputs": [
    {
     "data": {
      "text/plain": [
       "['poster0_0.jpg',\n",
       " 'poster0_1.jpg',\n",
       " 'poster0_2.jpg',\n",
       " 'poster0_3.jpg',\n",
       " 'poster0_4.jpg',\n",
       " 'poster0_5.jpg',\n",
       " 'poster0_6.jpg',\n",
       " 'poster0_7.jpg',\n",
       " 'poster0_8.jpg',\n",
       " 'poster0_9.jpg',\n",
       " 'poster0_10.jpg',\n",
       " 'poster0_11.jpg',\n",
       " 'poster0_12.jpg',\n",
       " 'poster0_13.jpg',\n",
       " 'poster0_14.jpg',\n",
       " 'poster0_15.jpg',\n",
       " 'poster0_16.jpg',\n",
       " 'poster0_17.jpg',\n",
       " 'poster0_18.jpg',\n",
       " 'poster0_19.jpg']"
      ]
     },
     "execution_count": 351,
     "metadata": {},
     "output_type": "execute_result"
    }
   ],
   "source": [
    "\n",
    "for i in range(len(config[pg1]['results'])):\n",
    "    filename.append('poster{0}_{1}.jpg'.format(pg1, i))\n",
    "\n",
    "filename"
   ]
  },
  {
   "cell_type": "code",
   "execution_count": 352,
   "metadata": {},
   "outputs": [
    {
     "data": {
      "text/plain": [
       "['http://image.tmdb.org/t/p/original/db32LaOibwEliAmSL2jjDF6oDdj.jpg',\n",
       " 'http://image.tmdb.org/t/p/original/xBHvZcjRiWyobQ9kxBhO6B2dtRI.jpg',\n",
       " 'http://image.tmdb.org/t/p/original/jyw8VKYEiM1UDzPB7NsisUgBeJ8.jpg',\n",
       " 'http://image.tmdb.org/t/p/original/yJdeWaVXa2se9agI6B4mQunVYkB.jpg',\n",
       " 'http://image.tmdb.org/t/p/original/udDclJoHjfjb8Ekgsd4FDteOkCU.jpg',\n",
       " 'http://image.tmdb.org/t/p/original/dtRbVsUb5O12WWO54SRpiMtHKC0.jpg',\n",
       " 'http://image.tmdb.org/t/p/original/lnWkyG3LLgbbrIEeyl5mK5VRFe4.jpg',\n",
       " 'http://image.tmdb.org/t/p/original/pjeMs3yqRmFL3giJy4PMXWZTTPa.jpg',\n",
       " 'http://image.tmdb.org/t/p/original/7WsyChQLEftFiDOVTGkv3hFpyyt.jpg',\n",
       " 'http://image.tmdb.org/t/p/original/eU0orGizEpOli4wtN8HtfOOJDlA.jpg',\n",
       " 'http://image.tmdb.org/t/p/original/7IiTTgloJzvGI1TAYymCfbfl3vT.jpg',\n",
       " 'http://image.tmdb.org/t/p/original/8j58iEBw9pOXFD2L0nt0ZXeHviB.jpg',\n",
       " 'http://image.tmdb.org/t/p/original/pThyQovXQrw2m0s9x82twj48Jq4.jpg',\n",
       " 'http://image.tmdb.org/t/p/original/MBiKqTsouYqAACLYNDadsjhhC0.jpg',\n",
       " 'http://image.tmdb.org/t/p/original/30YacPAcxpNemhhwX0PVUl9pVA3.jpg',\n",
       " 'http://image.tmdb.org/t/p/original/sM33SANp9z6rXW8Itn7NnG1GOEs.jpg',\n",
       " 'http://image.tmdb.org/t/p/original/fapXd3v9qTcNBTm39ZC4KUVQDNf.jpg',\n",
       " 'http://image.tmdb.org/t/p/original/kTQ3J8oTTKofAVLYnds2cHUz9KO.jpg',\n",
       " 'http://image.tmdb.org/t/p/original/tBuabjEqxzoUBHfbyNbd8ulgy5j.jpg',\n",
       " 'http://image.tmdb.org/t/p/original/btTdmkgIvOi0FFip1sPuZI2oQG6.jpg']"
      ]
     },
     "execution_count": 352,
     "metadata": {},
     "output_type": "execute_result"
    }
   ],
   "source": [
    "full_url"
   ]
  },
  {
   "cell_type": "code",
   "execution_count": 354,
   "metadata": {},
   "outputs": [],
   "source": [
    "\n",
    "for i in range(len(config[pg1]['results'])):\n",
    "    req.urlretrieve(full_url[i], filename[i])\n",
    "    \n",
    "\n",
    "# imgurl =\"https://i.ytimg.com/vi/Ks-_Mh1QhMc/hqdefault.jpg\"\n",
    "\n",
    "# req.urlretrieve(imgurl, \"image_name.jpg\")"
   ]
  }
 ],
 "metadata": {
  "kernelspec": {
   "display_name": "Python 3",
   "language": "python",
   "name": "python3"
  },
  "language_info": {
   "codemirror_mode": {
    "name": "ipython",
    "version": 3
   },
   "file_extension": ".py",
   "mimetype": "text/x-python",
   "name": "python",
   "nbconvert_exporter": "python",
   "pygments_lexer": "ipython3",
   "version": "3.7.4"
  }
 },
 "nbformat": 4,
 "nbformat_minor": 2
}
